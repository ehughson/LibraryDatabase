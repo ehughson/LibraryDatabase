{
 "cells": [
  {
   "cell_type": "markdown",
   "metadata": {},
   "source": [
    "Library Management System"
   ]
  },
  {
   "cell_type": "code",
   "execution_count": 2,
   "metadata": {},
   "outputs": [],
   "source": [
    "%load_ext sql"
   ]
  },
  {
   "cell_type": "code",
   "execution_count": 3,
   "metadata": {},
   "outputs": [
    {
     "data": {
      "text/plain": [
       "'Connected: @library.db'"
      ]
     },
     "execution_count": 3,
     "metadata": {},
     "output_type": "execute_result"
    }
   ],
   "source": [
    "%sql sqlite:///library.db"
   ]
  },
  {
   "cell_type": "code",
   "execution_count": 105,
   "metadata": {},
   "outputs": [
    {
     "name": "stdout",
     "output_type": "stream",
     "text": [
      " * sqlite:///library.db\n",
      "Done.\n",
      "Done.\n"
     ]
    },
    {
     "data": {
      "text/plain": [
       "[]"
      ]
     },
     "execution_count": 105,
     "metadata": {},
     "output_type": "execute_result"
    }
   ],
   "source": [
    "%%sql\n",
    "CREATE TABLE Members(\n",
    "                        LibID INTEGER NOT NULL, \n",
    "                        firstName CHAR(60), \n",
    "                        lastName CHAR(60), \n",
    "                        memberOfLib CHAR(60) NOT NULL,\n",
    "                        PRIMARY KEY (LibID),\n",
    "                        FOREIGN KEY (memberOfLib) REFERENCES Library(name)\n",
    "    );"
   ]
  },
  {
   "cell_type": "code",
   "execution_count": 174,
   "metadata": {},
   "outputs": [
    {
     "name": "stdout",
     "output_type": "stream",
     "text": [
      " * sqlite:///library.db\n",
      "Done.\n",
      "Done.\n"
     ]
    },
    {
     "data": {
      "text/plain": [
       "[]"
      ]
     },
     "execution_count": 174,
     "metadata": {},
     "output_type": "execute_result"
    }
   ],
   "source": [
    "%%sql\n",
    "CREATE TABLE Records(\n",
    "                        ISBN INTEGER NOT NULL, \n",
    "                        locationNumber INTEGER, \n",
    "                        numCopies INTEGER, \n",
    "                        availableOn DATE, \n",
    "                        status CHAR(20), \n",
    "                        recordType CHAR(40),\n",
    "                        libraryAddress CHAR(60) NOT NULL,\n",
    "                        PRIMARY KEY(ISBN),\n",
    "                        FOREIGN KEY (libraryAddress) REFERENCES Library(address)\n",
    "                    );\n"
   ]
  },
  {
   "cell_type": "code",
   "execution_count": 27,
   "metadata": {},
   "outputs": [
    {
     "name": "stdout",
     "output_type": "stream",
     "text": [
      " * sqlite:///library.db\n",
      "(sqlite3.OperationalError) near \"DROP\": syntax error\n",
      "[SQL: ALTER TABLE Records\n",
      "DROP CONSTRAINT libraryAddress;]\n",
      "(Background on this error at: http://sqlalche.me/e/e3q8)\n"
     ]
    }
   ],
   "source": [
    "%%sql\n"
   ]
  },
  {
   "cell_type": "code",
   "execution_count": 109,
   "metadata": {},
   "outputs": [
    {
     "name": "stdout",
     "output_type": "stream",
     "text": [
      " * sqlite:///library.db\n",
      "Done.\n"
     ]
    },
    {
     "data": {
      "text/plain": [
       "[]"
      ]
     },
     "execution_count": 109,
     "metadata": {},
     "output_type": "execute_result"
    }
   ],
   "source": [
    "%%sql\n",
    "CREATE TABLE BorrowStatus(\n",
    "                            IssueID INTEGER NOT NULL, \n",
    "                            ISBN INTEGER NOT NULL, \n",
    "                            IssueDate DATE, \n",
    "                            DueDate DATE,\n",
    "                            PRIMARY KEY(IssueID, ISBN), \n",
    "                            FOREIGN KEY(ISBN) REFERENCES Records(ISBN)\n",
    "    \n",
    ");"
   ]
  },
  {
   "cell_type": "code",
   "execution_count": 117,
   "metadata": {},
   "outputs": [
    {
     "name": "stdout",
     "output_type": "stream",
     "text": [
      " * sqlite:///library.db\n",
      "Done.\n"
     ]
    },
    {
     "data": {
      "text/plain": [
       "[]"
      ]
     },
     "execution_count": 117,
     "metadata": {},
     "output_type": "execute_result"
    }
   ],
   "source": [
    "%%sql\n",
    "CREATE TABLE Borrows(\n",
    "                        IssueID INTEGER NOT NULL,\n",
    "                        ISBN INTEGER NOT NULL,\n",
    "                        borrowingID INTEGER NOT NULL,\n",
    "                        PRIMARY KEY(IssueID, ISBN, borrowingID),\n",
    "                        FOREIGN KEY(ISBN) REFERENCES BorrowStatus(ISBN),\n",
    "                        FOREIGN KEY(IssueID) REFERENCES BorrowStatus(IssueID),\n",
    "                        FOREIGN KEY(borrowingID) REFERENCES Members(LibID)\n",
    ");"
   ]
  },
  {
   "cell_type": "code",
   "execution_count": 112,
   "metadata": {},
   "outputs": [
    {
     "name": "stdout",
     "output_type": "stream",
     "text": [
      " * sqlite:///library.db\n",
      "Done.\n",
      "Done.\n"
     ]
    },
    {
     "data": {
      "text/plain": [
       "[]"
      ]
     },
     "execution_count": 112,
     "metadata": {},
     "output_type": "execute_result"
    }
   ],
   "source": [
    "%%sql\n",
    "CREATE TABLE ReturnStatus(\n",
    "                        ReturnID INTEGER NOT NULL,\n",
    "                        IssueID INTEGER NOT NULL,\n",
    "                        ISBN INTEGER NOT NULL, \n",
    "                        DueDate DATE, \n",
    "                        ReturnedOn DATE, \n",
    "                        fineAmount FLOAT(3, 2), \n",
    "                        PRIMARY KEY(ReturnID, IssueID, ISBN), \n",
    "                        FOREIGN KEY (IssueID) REFERENCES BorrowStatus(IssueID), \n",
    "                        FOREIGN KEY (ISBN) REFERENCES Records(ISBN)\n",
    ");"
   ]
  },
  {
   "cell_type": "code",
   "execution_count": 169,
   "metadata": {},
   "outputs": [
    {
     "name": "stdout",
     "output_type": "stream",
     "text": [
      " * sqlite:///library.db\n",
      "(sqlite3.OperationalError) table Returns already exists\n",
      "[SQL: CREATE TABLE Returns(\n",
      "                        ReturnID INTEGER NOT NULL,\n",
      "                        IssueID INTEGER NOT NULL,\n",
      "                        ISBN INTEGER NOT NULL,\n",
      "                        returningID INTEGER NOT NULL,\n",
      "                        PRIMARY KEY(IssueID, ISBN, returningID),\n",
      "                        FOREIGN KEY(ISBN) REFERENCES BorrowStatus(ISBN),\n",
      "                        FOREIGN KEY(IssueID) REFERENCES BorrowStatus(IssueID),\n",
      "                        FOREIGN KEY(returningID) REFERENCES Members(LibID)\n",
      ");]\n",
      "(Background on this error at: http://sqlalche.me/e/e3q8)\n"
     ]
    }
   ],
   "source": [
    "%%sql\n",
    "CREATE TABLE Returns(\n",
    "                        ReturnID INTEGER NOT NULL,\n",
    "                        IssueID INTEGER NOT NULL,\n",
    "                        ISBN INTEGER NOT NULL,\n",
    "                        returningID INTEGER NOT NULL,\n",
    "                        PRIMARY KEY(IssueID, ISBN, returningID),\n",
    "                        FOREIGN KEY(ISBN) REFERENCES BorrowStatus(ISBN),\n",
    "                        FOREIGN KEY(IssueID) REFERENCES BorrowStatus(IssueID),\n",
    "                        FOREIGN KEY(returningID) REFERENCES Members(LibID)\n",
    ");"
   ]
  },
  {
   "cell_type": "code",
   "execution_count": 46,
   "metadata": {},
   "outputs": [
    {
     "name": "stdout",
     "output_type": "stream",
     "text": [
      " * sqlite:///library.db\n",
      "Done.\n",
      "Done.\n"
     ]
    },
    {
     "data": {
      "text/plain": [
       "[]"
      ]
     },
     "execution_count": 46,
     "metadata": {},
     "output_type": "execute_result"
    }
   ],
   "source": [
    "%%sql \n",
    "CREATE TABLE Personnel(\n",
    "                        pID INTEGER NOT NULL, \n",
    "                        position CHAR(30), \n",
    "                        firstName CHAR(60), \n",
    "                        lastName CHAR(60),\n",
    "                        worksForLib CHAR(60) NOT NULL,\n",
    "                        PRIMARY KEY(pID),\n",
    "                        FOREIGN KEY (worksForLib) REFERENCES Library(name)\n",
    ");"
   ]
  },
  {
   "cell_type": "code",
   "execution_count": 153,
   "metadata": {},
   "outputs": [
    {
     "name": "stdout",
     "output_type": "stream",
     "text": [
      " * sqlite:///library.db\n",
      "Done.\n",
      "Done.\n"
     ]
    },
    {
     "data": {
      "text/plain": [
       "[]"
      ]
     },
     "execution_count": 153,
     "metadata": {},
     "output_type": "execute_result"
    }
   ],
   "source": [
    "%%sql\n",
    "CREATE TABLE Event(\n",
    "                        eventID INTEGER NOT NULL, \n",
    "                        title CHAR(60),\n",
    "                        date DATE, \n",
    "                        eventType CHAR(60), \n",
    "                        roomBooked INTEGER, \n",
    "                        PRIMARY KEY(EventID)\n",
    "                  );"
   ]
  },
  {
   "cell_type": "code",
   "execution_count": 155,
   "metadata": {},
   "outputs": [
    {
     "name": "stdout",
     "output_type": "stream",
     "text": [
      " * sqlite:///library.db\n",
      "Done.\n",
      "Done.\n"
     ]
    },
    {
     "data": {
      "text/plain": [
       "[]"
      ]
     },
     "execution_count": 155,
     "metadata": {},
     "output_type": "execute_result"
    }
   ],
   "source": [
    "%%sql\n",
    "CREATE TABLE Holds( \n",
    "                        eventID INTEGER NOT NULL, \n",
    "                        address CHAR(60) NOT NULL,\n",
    "                        City CHAR(60) NOT NULL,\n",
    "                        province CHAR(30) NOT NULL,\n",
    "                        PRIMARY KEY(eventID, address, City, province), \n",
    "                        FOREIGN KEY(eventID) REFERENCES Event(eventID) ON DELETE CASCADE, \n",
    "                        FOREIGN KEY(City) REFERENCES Library(City) ON DELETE CASCADE, \n",
    "                        FOREIGN KEY(address) REFERENCES Library(address) ON DELETE CASCADE,\n",
    "                        FOREIGN KEY(province) REFERENCES Library(province) ON DELETE CASCADE\n",
    "                        \n",
    "); "
   ]
  },
  {
   "cell_type": "code",
   "execution_count": 162,
   "metadata": {},
   "outputs": [
    {
     "name": "stdout",
     "output_type": "stream",
     "text": [
      " * sqlite:///library.db\n",
      "Done.\n",
      "Done.\n"
     ]
    },
    {
     "data": {
      "text/plain": [
       "[]"
      ]
     },
     "execution_count": 162,
     "metadata": {},
     "output_type": "execute_result"
    }
   ],
   "source": [
    "%%sql\n",
    "CREATE TABLE Recommend(\n",
    "                        eventID INTEGER NOT NULL, \n",
    "                        eventType CHAR(60) NOT NULL, \n",
    "                        audienceType CHAR(60) NOT NULL, \n",
    "                        PRIMARY KEY(eventID, eventType, audienceType), \n",
    "                        FOREIGN KEY(eventID) REFERENCES Event(eventID) ON DELETE CASCADE, \n",
    "                        FOREIGN KEY(eventType) REFERENCES AudienceInfo(eventType), \n",
    "                        FOREIGN KEY(audienceType) REFERENCES AudienceInfo(audienceType)\n",
    ");"
   ]
  },
  {
   "cell_type": "code",
   "execution_count": 126,
   "metadata": {},
   "outputs": [
    {
     "name": "stdout",
     "output_type": "stream",
     "text": [
      " * sqlite:///library.db\n",
      "Done.\n",
      "Done.\n"
     ]
    },
    {
     "data": {
      "text/plain": [
       "[]"
      ]
     },
     "execution_count": 126,
     "metadata": {},
     "output_type": "execute_result"
    }
   ],
   "source": [
    "%%sql\n",
    "CREATE TABLE BookClub(\n",
    "                        clubName CHAR(60) NOT NULL,\n",
    "                        presidentID INTEGER NOT NULL,\n",
    "                        PRIMARY KEY(clubName),\n",
    "                        FOREIGN KEY (presidentID) REFERENCES Members(LibID),\n",
    "                        FOREIGN KEY (clubName) REFERENCES Event(title)\n",
    ");"
   ]
  },
  {
   "cell_type": "code",
   "execution_count": 147,
   "metadata": {},
   "outputs": [
    {
     "name": "stdout",
     "output_type": "stream",
     "text": [
      " * sqlite:///library.db\n",
      "Done.\n",
      "Done.\n"
     ]
    },
    {
     "data": {
      "text/plain": [
       "[]"
      ]
     },
     "execution_count": 147,
     "metadata": {},
     "output_type": "execute_result"
    }
   ],
   "source": [
    "%%sql\n",
    "CREATE TABLE BookEvent(\n",
    "                        eventName CHAR(60) NOT NULL,\n",
    "                        BookTitle CHAR(60),\n",
    "                        PRIMARY KEY(eventName,BookTitle),  \n",
    "                        FOREIGN KEY(BookTitle) REFERENCES Book(title),\n",
    "                        FOREIGN KEY(eventName) REFERENCES Event(title)\n",
    ");"
   ]
  },
  {
   "cell_type": "code",
   "execution_count": 129,
   "metadata": {},
   "outputs": [
    {
     "name": "stdout",
     "output_type": "stream",
     "text": [
      " * sqlite:///library.db\n",
      "Done.\n"
     ]
    },
    {
     "data": {
      "text/plain": [
       "[]"
      ]
     },
     "execution_count": 129,
     "metadata": {},
     "output_type": "execute_result"
    }
   ],
   "source": [
    "%%sql\n",
    "CREATE TABLE ArtShow(\n",
    "                        eventName CHAR(60) NOT NULL,\n",
    "                        artistName CHAR(30) NOT NULL,\n",
    "                        PRIMARY KEY(eventName,artistName),  \n",
    "                        FOREIGN KEY(eventName) REFERENCES Event(title)\n",
    ");"
   ]
  },
  {
   "cell_type": "code",
   "execution_count": 130,
   "metadata": {},
   "outputs": [
    {
     "name": "stdout",
     "output_type": "stream",
     "text": [
      " * sqlite:///library.db\n",
      "Done.\n"
     ]
    },
    {
     "data": {
      "text/plain": [
       "[]"
      ]
     },
     "execution_count": 130,
     "metadata": {},
     "output_type": "execute_result"
    }
   ],
   "source": [
    "%%sql\n",
    "CREATE TABLE FilmScreening(\n",
    "                            eventName CHAR(60) NOT NULL,\n",
    "                            movieName CHAR(60) NOT NULL,\n",
    "                            PRIMARY KEY(eventName,movieName),\n",
    "                            FOREIGN KEY(eventName) REFERENCES Event(title)\n",
    "                            );"
   ]
  },
  {
   "cell_type": "code",
   "execution_count": 131,
   "metadata": {},
   "outputs": [
    {
     "name": "stdout",
     "output_type": "stream",
     "text": [
      " * sqlite:///library.db\n",
      "Done.\n"
     ]
    },
    {
     "data": {
      "text/plain": [
       "[]"
      ]
     },
     "execution_count": 131,
     "metadata": {},
     "output_type": "execute_result"
    }
   ],
   "source": [
    "%%sql\n",
    "CREATE TABLE ArtClass(\n",
    "                            eventName CHAR(60) NOT NULL,\n",
    "                            style CHAR(60) NOT NULL,\n",
    "                            PRIMARY KEY(eventName,style),\n",
    "                            FOREIGN KEY(eventName) REFERENCES Event(title)\n",
    ");"
   ]
  },
  {
   "cell_type": "code",
   "execution_count": 159,
   "metadata": {},
   "outputs": [
    {
     "name": "stdout",
     "output_type": "stream",
     "text": [
      " * sqlite:///library.db\n",
      "Done.\n",
      "Done.\n"
     ]
    },
    {
     "data": {
      "text/plain": [
       "[]"
      ]
     },
     "execution_count": 159,
     "metadata": {},
     "output_type": "execute_result"
    }
   ],
   "source": [
    "%%sql\n",
    "CREATE TABLE Audience(   \n",
    "                             eventType CHAR(60) NOT NULL, \n",
    "                             audienceType CHAR(60) NOT NULL, \n",
    "                             PRIMARY KEY(eventType, audienceType),\n",
    "                             FOREIGN KEY (eventType) REFERENCES Event(eventType)\n",
    "                     );"
   ]
  },
  {
   "cell_type": "code",
   "execution_count": 142,
   "metadata": {},
   "outputs": [
    {
     "name": "stdout",
     "output_type": "stream",
     "text": [
      " * sqlite:///library.db\n",
      "Done.\n",
      "Done.\n"
     ]
    },
    {
     "data": {
      "text/plain": [
       "[]"
      ]
     },
     "execution_count": 142,
     "metadata": {},
     "output_type": "execute_result"
    }
   ],
   "source": [
    "%%sql\n",
    "CREATE TABLE memberOfAudience( \n",
    "                                eventType CHAR(60) NOT NULL,\n",
    "                                audienceType CHAR(60) NOT NULL,\n",
    "                                memberID INTEGER NOT NULL,\n",
    "                                PRIMARY KEY(eventType, audienceType, memberID),\n",
    "                                FOREIGN KEY (eventType) REFERENCES Audience(eventType) ON DELETE CASCADE,\n",
    "                                FOREIGN KEY (audienceType) REFERENCES Audience(audienceType) ON DELETE CASCADE,\n",
    "                                FOREIGN KEY (memberID) REFERENCES Member(libID) ON DELETE CASCADE\n",
    "                             );"
   ]
  },
  {
   "cell_type": "code",
   "execution_count": 156,
   "metadata": {},
   "outputs": [
    {
     "name": "stdout",
     "output_type": "stream",
     "text": [
      " * sqlite:///library.db\n",
      "Done.\n",
      "Done.\n"
     ]
    },
    {
     "data": {
      "text/plain": [
       "[]"
      ]
     },
     "execution_count": 156,
     "metadata": {},
     "output_type": "execute_result"
    }
   ],
   "source": [
    "%%sql\n",
    "CREATE TABLE Library(\n",
    "                        address CHAR(60) NOT NULL, \n",
    "                        City CHAR(60) NOT NULL, \n",
    "                        province CHAR(30),\n",
    "                        name CHAR(60) NOT NULL, \n",
    "                        postalCode CHAR(6), \n",
    "                        PRIMARY KEY (address, City, province)\n",
    "                    ); "
   ]
  },
  {
   "cell_type": "code",
   "execution_count": 52,
   "metadata": {},
   "outputs": [
    {
     "name": "stdout",
     "output_type": "stream",
     "text": [
      " * sqlite:///library.db\n",
      "Done.\n",
      "Done.\n"
     ]
    },
    {
     "data": {
      "text/plain": [
       "[]"
      ]
     },
     "execution_count": 52,
     "metadata": {},
     "output_type": "execute_result"
    }
   ],
   "source": [
    "%%sql\n",
    "CREATE TABLE Attends(\n",
    "                        eventID INTEGER NOT NULL, \n",
    "                        LibID INTEGER NOT NULL, \n",
    "                        PRIMARY KEY(eventID, LibID), \n",
    "                        FOREIGN KEY(eventID) REFERENCES Event(eventID) ON DELETE CASCADE, \n",
    "                        FOREIGN KEY(LibID) REFERENCES Members(LibID) ON DELETE CASCADE\n",
    "                    );\n"
   ]
  },
  {
   "cell_type": "code",
   "execution_count": 176,
   "metadata": {},
   "outputs": [
    {
     "name": "stdout",
     "output_type": "stream",
     "text": [
      " * sqlite:///library.db\n",
      "Done.\n",
      "Done.\n"
     ]
    },
    {
     "data": {
      "text/plain": [
       "[]"
      ]
     },
     "execution_count": 176,
     "metadata": {},
     "output_type": "execute_result"
    }
   ],
   "source": [
    "%%sql \n",
    "CREATE TABLE Updates( \n",
    "                        pID INTEGER NOT NULL, \n",
    "                        ISBN INTEGER NOT NULL, \n",
    "                        PRIMARY KEY(pID, ISBN), \n",
    "                        FOREIGN KEY(pID) REFERENCES Personnel(pID) ON DELETE CASCADE, \n",
    "                        FOREIGN KEY(ISBN) REFERENCES Records(ISBN) ON DELETE CASCADE\n",
    ");"
   ]
  },
  {
   "cell_type": "code",
   "execution_count": 136,
   "metadata": {},
   "outputs": [
    {
     "name": "stdout",
     "output_type": "stream",
     "text": [
      " * sqlite:///library.db\n",
      "(sqlite3.OperationalError) table Book already exists\n",
      "[SQL: CREATE TABLE Book(\n",
      "                        ISBN INTEGER NOT NULL, \n",
      "                        fiction CHAR(60), \n",
      "                        genre CHAR(60), \n",
      "                        title CHAR(60), \n",
      "                        authorFirstName CHAR(60), \n",
      "                        authorLastName CHAR(60), \n",
      "                        publisher CHAR(60),\n",
      "                        PRIMARY KEY (ISBN), \n",
      "                        FOREIGN KEY(ISBN) REFERENCES Records(ISBN) ON DELETE CASCADE\n",
      ");]\n",
      "(Background on this error at: http://sqlalche.me/e/e3q8)\n"
     ]
    }
   ],
   "source": [
    "%%sql \n",
    "CREATE TABLE Book(\n",
    "                        ISBN INTEGER NOT NULL, \n",
    "                        fiction CHAR(60), \n",
    "                        genre CHAR(60), \n",
    "                        title CHAR(60), \n",
    "                        authorFirstName CHAR(60), \n",
    "                        authorLastName CHAR(60), \n",
    "                        publisher CHAR(60),\n",
    "                        PRIMARY KEY (ISBN), \n",
    "                        FOREIGN KEY(ISBN) REFERENCES Records(ISBN) ON DELETE CASCADE\n",
    ");\n"
   ]
  },
  {
   "cell_type": "code",
   "execution_count": 57,
   "metadata": {},
   "outputs": [
    {
     "name": "stdout",
     "output_type": "stream",
     "text": [
      " * sqlite:///library.db\n",
      "Done.\n",
      "Done.\n"
     ]
    },
    {
     "data": {
      "text/plain": [
       "[]"
      ]
     },
     "execution_count": 57,
     "metadata": {},
     "output_type": "execute_result"
    }
   ],
   "source": [
    "%%sql \n",
    "CREATE TABLE ScientificJournal(ISBN INTEGER NOT NULL, \n",
    "                              IssueNumber INTEGER, \n",
    "                              volumeNumber INTEGER, \n",
    "                              JournalName CHAR(60),\n",
    "                              publisher CHAR(60),\n",
    "                              PRIMARY KEY (ISBN),\n",
    "                              FOREIGN KEY(ISBN) REFERENCES Records(ISBN) ON DELETE CASCADE);\n"
   ]
  },
  {
   "cell_type": "code",
   "execution_count": 91,
   "metadata": {},
   "outputs": [
    {
     "name": "stdout",
     "output_type": "stream",
     "text": [
      " * sqlite:///library.db\n",
      "Done.\n",
      "Done.\n"
     ]
    },
    {
     "data": {
      "text/plain": [
       "[]"
      ]
     },
     "execution_count": 91,
     "metadata": {},
     "output_type": "execute_result"
    }
   ],
   "source": [
    "%%sql\n",
    "CREATE TABLE Magazine(ISBN INTEGER NOT NULL, \n",
    "                      IssueNumber INTEGER, \n",
    "                      volumeNumber INTEGER,\n",
    "                      MagazineName CHAR(60),\n",
    "                      genre CHAR(60), \n",
    "                      PRIMARY KEY (ISBN),\n",
    "                      FOREIGN KEY(ISBN) REFERENCES Records(ISBN) ON DELETE CASCADE);"
   ]
  },
  {
   "cell_type": "code",
   "execution_count": 82,
   "metadata": {},
   "outputs": [
    {
     "name": "stdout",
     "output_type": "stream",
     "text": [
      " * sqlite:///library.db\n",
      "Done.\n"
     ]
    },
    {
     "data": {
      "text/plain": [
       "[]"
      ]
     },
     "execution_count": 82,
     "metadata": {},
     "output_type": "execute_result"
    }
   ],
   "source": [
    "%%sql\n",
    "CREATE TABLE CD(\n",
    "                    ISBN INTEGER NOT NULL,\n",
    "                    artistName CHAR(30),\n",
    "                    albumName CHAR(30),\n",
    "                    RecordingCompany CHAR(60),\n",
    "                    numTracks INTEGER,\n",
    "                    PRIMARY KEY (ISBN),\n",
    "                    FOREIGN KEY(ISBN) REFERENCES Records(ISBN) ON DELETE CASCADE\n",
    ");"
   ]
  },
  {
   "cell_type": "code",
   "execution_count": 124,
   "metadata": {},
   "outputs": [
    {
     "name": "stdout",
     "output_type": "stream",
     "text": [
      " * sqlite:///library.db\n",
      "Done.\n",
      "Done.\n"
     ]
    },
    {
     "data": {
      "text/plain": [
       "[]"
      ]
     },
     "execution_count": 124,
     "metadata": {},
     "output_type": "execute_result"
    }
   ],
   "source": [
    "%%sql \n",
    "CREATE TABLE Volunteer(\n",
    "                        pID INTEGER NOT NULL, \n",
    "                        LibID INTEGER, \n",
    "                        volunteerHours TIME, \n",
    "                        PRIMARY KEY (pID, libID),\n",
    "                        FOREIGN KEY (pID) REFERENCES Personnel(pID) ON DELETE CASCADE, \n",
    "                        FOREIGN KEY (LibID) REFERENCES Members(LibID) ON DELETE CASCADE\n",
    "                       \n",
    "                      );"
   ]
  },
  {
   "cell_type": "code",
   "execution_count": 132,
   "metadata": {},
   "outputs": [
    {
     "name": "stdout",
     "output_type": "stream",
     "text": [
      " * sqlite:///library.db\n",
      "Done.\n",
      "Done.\n"
     ]
    },
    {
     "data": {
      "text/plain": [
       "[]"
      ]
     },
     "execution_count": 132,
     "metadata": {},
     "output_type": "execute_result"
    }
   ],
   "source": [
    "%%sql \n",
    "CREATE TABLE Librarian(\n",
    "                        pID INTEGER NOT NULL, \n",
    "                        monthlySalary FLOAT(5, 2), \n",
    "                        PRIMARY KEY (pID),\n",
    "                        FOREIGN KEY (pID) REFERENCES Personnel(pID) ON DELETE CASCADE\n",
    "                      );"
   ]
  },
  {
   "cell_type": "code",
   "execution_count": null,
   "metadata": {},
   "outputs": [],
   "source": []
  }
 ],
 "metadata": {
  "kernelspec": {
   "display_name": "Python 3",
   "language": "python",
   "name": "python3"
  },
  "language_info": {
   "codemirror_mode": {
    "name": "ipython",
    "version": 3
   },
   "file_extension": ".py",
   "mimetype": "text/x-python",
   "name": "python",
   "nbconvert_exporter": "python",
   "pygments_lexer": "ipython3",
   "version": "3.7.4"
  }
 },
 "nbformat": 4,
 "nbformat_minor": 4
}
